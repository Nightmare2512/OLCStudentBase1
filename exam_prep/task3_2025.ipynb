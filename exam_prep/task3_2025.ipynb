{
 "cells": [
  {
   "cell_type": "code",
   "execution_count": null,
   "metadata": {},
   "outputs": [],
   "source": [
    "#Task 3.0\n",
    "capital_cities = {\n",
    " 'singapore':'Singapore',\n",
    " 'japan':'Tokyo',\n",
    " 'australia':'Canberra',\n",
    " 'england':'London',\n",
    " 'france':'Paris',\n",
    " 'germany':'Berlin'\n",
    "}\n",
    "country = input(\"Please enter the name of a country: \")\n",
    "remove = input(\"Would you like to remove any of the entries? (Y or N): \")\n",
    "add = input(\"Would you like to add a new entry? (Y or N): \")\n"
   ]
  },
  {
   "cell_type": "code",
   "execution_count": null,
   "metadata": {},
   "outputs": [],
   "source": [
    "#Task 3.1\n",
    "capital_cities = {\n",
    " 'singapore':'Singapore',\n",
    " 'japan':'Tokyo',\n",
    " 'australia':'Canberra',\n",
    " 'england':'London',\n",
    " 'france':'Paris',\n",
    " 'germany':'Berlin'\n",
    "}\n",
    "country = input(\"Please enter the name of a country: \").lower\n",
    "remove = input(\"Would you like to remove any of the entries? (Y or N): \")\n",
    "add = input(\"Would you like to add a new entry? (Y or N): \")\n",
    "\n",
    "\n"
   ]
  }
 ],
 "metadata": {
  "language_info": {
   "name": "python"
  }
 },
 "nbformat": 4,
 "nbformat_minor": 5
}
