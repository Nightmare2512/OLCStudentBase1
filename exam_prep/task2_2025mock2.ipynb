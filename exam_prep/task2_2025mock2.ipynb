{
 "cells": [
  {
   "cell_type": "code",
   "execution_count": null,
   "id": "ffb77006",
   "metadata": {},
   "outputs": [],
   "source": [
    "#Task 1.0\n",
    "firstname = input(\"Please enter your first name: \").lower()\n",
    "lastname = input(\"Please enter your last name: \").lower()\n",
    "email_id = firstname[:3] + lastname + \"@example.com\"\n",
    "print(\"Your email ID is \" + email_id)"
   ]
  },
  {
   "cell_type": "code",
   "execution_count": null,
   "metadata": {},
   "outputs": [],
   "source": [
    "#Task 1.1\n",
    "firstname = input(\"Please enter your first name: \").lower()\n",
    "lastname = input(\"Please enter your last name: \").lower()\n",
    "email_id = firstname[0] + lastname[-3:] + \"@example.com\"\n",
    "print(\"Your email ID is \" + email_id)\n"
   ]
  },
  {
   "cell_type": "code",
   "execution_count": null,
   "metadata": {},
   "outputs": [],
   "source": [
    "#Task 1.1o\n",
    "firstname = input(\"Please enter your first name: \").lower()\n",
    "lastname = input(\"Please enter your last name: \").lower()\n",
    "email_id = firstname[0] + lastname[-3:] + \"@example.com\"\n",
    "print(\"Your email ID is \" + email_id)"
   ]
  }
 ],
 "metadata": {
  "kernelspec": {
   "display_name": ".venv",
   "language": "python",
   "name": "python3"
  },
  "language_info": {
   "name": "python",
   "version": "3.11.2"
  }
 },
 "nbformat": 4,
 "nbformat_minor": 5
}
