{
 "cells": [
  {
   "cell_type": "code",
   "execution_count": null,
   "id": "90a3adcd",
   "metadata": {},
   "outputs": [],
   "source": [
    "num_of_animals = 5\n",
    "for x in range(num_of_animals):\n",
    "    p1_animal = input(\"Player 1, please enter an animal: \")\n",
    "    p1_animal = p1_animal.lower()\n",
    "    p2_guess = input(\"Player 2, please enter your guess: \")\n",
    "    p2_guess = p2_guess.lower()"
   ]
  },
  {
   "cell_type": "code",
   "execution_count": null,
   "id": "0346138c",
   "metadata": {},
   "outputs": [],
   "source": [
    "# Task 1.1\n",
    "animal_list = []\n",
    "\n",
    "while True:\n",
    "    p1_animal = input(\"Player 1, please enter an animal(To quit enter Q): \").upper()\n",
    "\n",
    "    if p1_animal == \"Q\":\n",
    "        print(\"Player one ending turn\")\n",
    "        break\n",
    "    else:\n",
    "        animal_list.append(p1_animal)\n",
    "\n",
    "print(animal_list)\n",
    "\n",
    "\n",
    "p2_guess = input(\"Player 2, please enter your guess: \").upper()\n",
    "\n",
    " \n",
    "    \n",
    "\n",
    "\n",
    "\n",
    "\n",
    "\n"
   ]
  },
  {
   "cell_type": "code",
   "execution_count": null,
   "metadata": {},
   "outputs": [],
   "source": [
    "# Task 1.2\n",
    "animal_list = []\n",
    "p2_Score = 0\n",
    "\n",
    "while True:\n",
    "    p1_animal = input(\"Player 1, please enter an animal(To quit enter Q): \").upper()\n",
    "\n",
    "    if p1_animal == \"Q\":\n",
    "        print(\"Player one ending turn\")\n",
    "        break\n",
    "    else:\n",
    "        animal_list.append(p1_animal)\n",
    "\n",
    "\n",
    "\n",
    "p2_guess = input(\"Player 2, please enter your guess: \").upper()\n",
    "if p2_guess in animal_list:\n",
    "    print(\"You guessed a animal succesfully\")\n",
    "    animal_list.remove(p2_guess)\n",
    "    p2_Score = p2_Score +1\n",
    "else:\n",
    "    print(\"Better luck next time\")\n",
    "    break"
   ]
  },
  {
   "cell_type": "code",
   "execution_count": 16,
   "metadata": {},
   "outputs": [
    {
     "name": "stdout",
     "output_type": "stream",
     "text": [
      "Player one ending turn\n",
      "You guessed a animal succesfully\n",
      "You guessed a animal succesfully\n",
      "You guessed a animal succesfully\n",
      "You have guessed all the animals your score is 3\n"
     ]
    }
   ],
   "source": [
    "# Task 1.3\n",
    "animal_list = []\n",
    "p2_Score = 0\n",
    "\n",
    "while True:\n",
    "    p1_animal = input(\"Player 1, please enter an animal(To quit enter Q): \").upper()\n",
    "\n",
    "    if p1_animal == \"Q\":\n",
    "        print(\"Player one ending turn\")\n",
    "        break\n",
    "    else:\n",
    "        animal_list.append(p1_animal)\n",
    "\n",
    "\n",
    "\n",
    "\n",
    "while True:\n",
    "    p2_guess = input(\"Player 2, please enter your guess: \").upper()\n",
    "\n",
    "    if p2_guess in animal_list:\n",
    "        print(\"You guessed a animal succesfully\")\n",
    "        animal_list.remove(p2_guess)\n",
    "        p2_Score = p2_Score +1\n",
    "    else:\n",
    "        print(f\"Player 2 your score is {p2_Score} and the animals left in the list were {animal_list}\")\n",
    "        break\n",
    "    if animal_list == []:\n",
    "        print(f\"You have guessed all the animals your score is {p2_Score}\")\n",
    "        break"
   ]
  }
 ],
 "metadata": {
  "kernelspec": {
   "display_name": ".venv",
   "language": "python",
   "name": "python3"
  },
  "language_info": {
   "codemirror_mode": {
    "name": "ipython",
    "version": 3
   },
   "file_extension": ".py",
   "mimetype": "text/x-python",
   "name": "python",
   "nbconvert_exporter": "python",
   "pygments_lexer": "ipython3",
   "version": "3.11.2"
  }
 },
 "nbformat": 4,
 "nbformat_minor": 5
}
