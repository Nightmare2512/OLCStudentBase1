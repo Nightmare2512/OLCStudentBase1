{
 "cells": [
  {
   "cell_type": "code",
   "execution_count": null,
   "id": "addea4e0",
   "metadata": {},
   "outputs": [],
   "source": [
    "list_username = [\"StudentNo1\", \"JaneJones\", \"ABC123\"]\n",
    "username = input(\"Please enter a username: \")\n",
    "password = input(\"Please enter a password: \")"
   ]
  },
  {
   "cell_type": "code",
   "execution_count": null,
   "id": "19a64c40",
   "metadata": {},
   "outputs": [],
   "source": [
    "# Task 1\n",
    "list_username = [\"StudentNo1\", \"JaneJones\", \"ABC123\"]\n",
    "while True:\n",
    "\n",
    "    username = input(\"Please enter a username: \")\n",
    "    \n",
    "    if username in list_username:\n",
    "        print(f\"This username is already taken please chose a different username\")\n",
    "    else:\n",
    "        list_username.append(username)\n",
    "        print(f\"you have succesfully registered with username {username}\")\n",
    "        break\n",
    "\n",
    "\n",
    "print(list_username)\n",
    "\n",
    "\n",
    "\n",
    "\n",
    "password = input(\"Please enter a password: \")"
   ]
  },
  {
   "cell_type": "code",
   "execution_count": 10,
   "id": "cb543acb",
   "metadata": {},
   "outputs": [
    {
     "name": "stdout",
     "output_type": "stream",
     "text": [
      "you have succesfully registered with username javier\n",
      "You need to add a special character to your password (chose from @, /, ! or ?)\n",
      "You need to add a special character to your password (chose from @, /, ! or ?)\n",
      "You need to add a special character to your password (chose from @, /, ! or ?)\n",
      "You need to add a special character to your password (chose from @, /, ! or ?)\n",
      "You need to add a special character to your password (chose from @, /, ! or ?)\n",
      "You need to add a special character to your password (chose from @, /, ! or ?)\n",
      "You need to add a special character to your password (chose from @, /, ! or ?)\n",
      "You need to add a special character to your password (chose from @, /, ! or ?)\n",
      "You need to add a special character to your password (chose from @, /, ! or ?)\n",
      "Your username javier with password 12345!qwwe has been registered successfully\n"
     ]
    }
   ],
   "source": [
    "#Task 1.2\n",
    "list_username = [\"StudentNo1\", \"JaneJones\", \"ABC123\"]\n",
    "while True:\n",
    "\n",
    "    username = input(\"Please enter a username: \")\n",
    "    \n",
    "    if username in list_username:\n",
    "        print(f\"This username is already taken please chose a different username\")\n",
    "    else:\n",
    "        list_username.append(username)\n",
    "        print(f\"you have succesfully registered with username {username}\")\n",
    "        break\n",
    "\n",
    "#print(list_username)\n",
    "special_cha = [\"@\", \"!\", \"/\", \"?\"]\n",
    "while True:\n",
    "\n",
    "    password = input(\"Please enter a password: \")\n",
    "\n",
    "    special_char = False\n",
    "    lenght = False\n",
    "    number = False\n",
    "\n",
    "    if len(password) >= 8:\n",
    "        lenght = True\n",
    "    else:\n",
    "        print(f\"Your password has to be 8 characters long\")\n",
    "\n",
    "    for i in password:\n",
    "        if i in special_cha:\n",
    "            special_char = True\n",
    "        else:\n",
    "            print(f\"You need to add a special character to your password (chose from @, /, ! or ?)\")\\\n",
    "        \n",
    "        if i.isdigit():\n",
    "            number = True\n",
    "\n",
    "    if number and special_char and lenght:\n",
    "        print(f\"Your username {username} with password {password} has been registered successfully\")\n",
    "        break\n",
    "\n",
    "\n",
    "    "
   ]
  }
 ],
 "metadata": {
  "kernelspec": {
   "display_name": ".venv",
   "language": "python",
   "name": "python3"
  },
  "language_info": {
   "codemirror_mode": {
    "name": "ipython",
    "version": 3
   },
   "file_extension": ".py",
   "mimetype": "text/x-python",
   "name": "python",
   "nbconvert_exporter": "python",
   "pygments_lexer": "ipython3",
   "version": "3.11.2"
  }
 },
 "nbformat": 4,
 "nbformat_minor": 5
}
